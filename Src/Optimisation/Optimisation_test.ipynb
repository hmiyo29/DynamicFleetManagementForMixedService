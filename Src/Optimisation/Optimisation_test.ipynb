{
 "cells": [
  {
   "cell_type": "markdown",
   "metadata": {},
   "source": [
    "# Optimisation Test Notebook - Insertion Heuristic"
   ]
  },
  {
   "cell_type": "markdown",
   "metadata": {},
   "source": [
    "This notebook is created so the dynamic optimisation using the insertion heuristic can be performed."
   ]
  },
  {
   "cell_type": "code",
   "execution_count": 1,
   "metadata": {},
   "outputs": [],
   "source": [
    "import os\n",
    "\n",
    "import numpy as np\n",
    "import pandas as pd\n",
    "import plotly.graph_objects as go\n",
    "import time\n",
    "\n",
    "from plotly.subplots import make_subplots"
   ]
  },
  {
   "cell_type": "markdown",
   "metadata": {},
   "source": [
    "### 1. Run the model"
   ]
  },
  {
   "cell_type": "markdown",
   "metadata": {},
   "source": [
    "Run the model by applying the requests dataset generated in the Request generation test notebook."
   ]
  },
  {
   "cell_type": "code",
   "execution_count": 2,
   "metadata": {},
   "outputs": [],
   "source": [
    "import Main_insertion"
   ]
  },
  {
   "cell_type": "code",
   "execution_count": 3,
   "metadata": {},
   "outputs": [],
   "source": [
    "# get the file names of the excel files in Results_requests folder\n",
    "files = os.listdir('../Results_requests')\n",
    "# only the requests files\n",
    "files = [file for file in files if 'Requests_' in file]\n",
    "\n",
    "# let the user choose the file\n",
    "# file can be distiguished by vessel type, demand level, and the instance number\n",
    "# the user can choose the file by the vessel type, demand level, and the instance number\n",
    "\n",
    "vessel_types = {'Parcel': 0 , 'Passenger': 1, 'Mixed': 2}\n",
    "# flip the keys and values\n",
    "vessel_types_inv = dict((v,k) for k,v in vessel_types.items())\n",
    "demand_levels = ['low', 'high']\n",
    "# depends on the max value of the instance number\n",
    "N_inst = len(files) / (2*7)\n",
    "\n",
    "demand_levels = input('Enter the demand level (low, high): ')\n",
    "instance_number = input(f'Enter the instance number (0-{int(N_inst-1)}): ')\n",
    "\n",
    "# ask if all patterns should be run or just one\n",
    "Isall = input('Do you want to run all patterns? (yes, no): ')\n",
    "\n",
    "if Isall == 'no':\n",
    "    # let the user choose - type your input\n",
    "    vessel_type_0 = input('Enter the vessel type for vessel 0 (Parcel, Passenger, Mixed): ')\n",
    "    vessel_type_1 = input('Enter the vessel type for vessel 1 (Parcel, Passenger, Mixed): ')\n",
    "\n",
    "    try:\n",
    "        vessel_type_0 = vessel_types[vessel_type_0]\n",
    "        vessel_type_1 = vessel_types[vessel_type_1]\n",
    "        \n",
    "        # get the file name\n",
    "        filenames = [f'Requests_K0_{vessel_type_0}_K1_{vessel_type_1}_demand_{demand_levels}_instance_{instance_number}.xlsx']\n",
    "\n",
    "        # Assert that the file exists\n",
    "        assert filenames[0] in files, 'File does not exist, please check the input.'\n",
    "\n",
    "    except KeyError:\n",
    "        print('Invalid vessel type')\n",
    "        exit()\n",
    "\n",
    "elif Isall == 'yes':\n",
    "    # create a list of all the filenames \n",
    "    filenames = [file for file in files if f'demand_{demand_levels}_instance_{instance_number}' in file]\n",
    "\n",
    "    # Assert that the file exists\n",
    "    assert len(filenames) > 0, 'File does not exist, please check the input.'\n",
    "\n",
    "\n"
   ]
  },
  {
   "cell_type": "code",
   "execution_count": 4,
   "metadata": {},
   "outputs": [],
   "source": [
    "# output folder\n",
    "if not os.path.exists('../Results_insertion'):\n",
    "    os.makedirs('../Results_insertion')\n",
    "\n",
    "output_folder = '../Results_insertion/'"
   ]
  },
  {
   "cell_type": "code",
   "execution_count": 5,
   "metadata": {},
   "outputs": [
    {
     "name": "stdout",
     "output_type": "stream",
     "text": [
      "Results do not exist, please run the requests first.\n"
     ]
    }
   ],
   "source": [
    "# read results if they exist\n",
    "try:\n",
    "    if Isall == 'no':\n",
    "        dict_df_results[(vessel_type_0, vessel_type_1)] = pd.read_excel(f'{output_folder}output_insertion_{demand_levels}_[{vessel_type_0},{vessel_type_1}_{instance_number}.xlsx')\n",
    "    elif Isall == 'yes':\n",
    "        dict_df_results = {}\n",
    "        vessseltypes = [(0,1), (0,2), (1,0), (1,2), (2,0), (2,1), (2,2)]\n",
    "        for v in vessseltypes:\n",
    "            dict_df_results[v] = pd.read_excel(f'{output_folder}output_insertion_{demand_levels}_[{v[0]}, {v[1]}]_{instance_number}.xlsx')\n",
    "\n",
    "except:\n",
    "    print('Results do not exist, please run the requests first.')\n",
    "# output_insertion_low_[0, 1]_0\n"
   ]
  },
  {
   "cell_type": "code",
   "execution_count": 6,
   "metadata": {},
   "outputs": [
    {
     "data": {
      "text/plain": [
       "['Requests_K0_0_K1_1_demand_low_instance_0.xlsx',\n",
       " 'Requests_K0_0_K1_2_demand_low_instance_0.xlsx',\n",
       " 'Requests_K0_1_K1_0_demand_low_instance_0.xlsx',\n",
       " 'Requests_K0_1_K1_2_demand_low_instance_0.xlsx',\n",
       " 'Requests_K0_2_K1_0_demand_low_instance_0.xlsx',\n",
       " 'Requests_K0_2_K1_1_demand_low_instance_0.xlsx',\n",
       " 'Requests_K0_2_K1_2_demand_low_instance_0.xlsx']"
      ]
     },
     "execution_count": 6,
     "metadata": {},
     "output_type": "execute_result"
    }
   ],
   "source": [
    "filenames"
   ]
  },
  {
   "cell_type": "code",
   "execution_count": 7,
   "metadata": {},
   "outputs": [
    {
     "data": {
      "text/plain": [
       "{}"
      ]
     },
     "execution_count": 7,
     "metadata": {},
     "output_type": "execute_result"
    }
   ],
   "source": [
    "dict_df_results"
   ]
  },
  {
   "cell_type": "markdown",
   "metadata": {},
   "source": [
    "Below, the model runs."
   ]
  },
  {
   "cell_type": "code",
   "execution_count": 8,
   "metadata": {},
   "outputs": [
    {
     "name": "stdout",
     "output_type": "stream",
     "text": [
      "Start running the insertion algorithm for the configuration: \n",
      "Vessel 0: 0, Vessel 1: 1, Demand level: low, Instance number: 0 \n",
      "\n",
      "Start the optimisation\n",
      "Optimisation completed! \n",
      "\n",
      "Calculation time: 245.72500705718994 \n",
      "\n",
      "Start running the insertion algorithm for the configuration: \n",
      "Vessel 0: 0, Vessel 1: 2, Demand level: low, Instance number: 0 \n",
      "\n",
      "Start the optimisation\n",
      "Optimisation completed! \n",
      "\n",
      "Calculation time: 23.66042470932007 \n",
      "\n",
      "Start running the insertion algorithm for the configuration: \n",
      "Vessel 0: 1, Vessel 1: 0, Demand level: low, Instance number: 0 \n",
      "\n",
      "Start the optimisation\n",
      "Optimisation completed! \n",
      "\n",
      "Calculation time: 237.9691026210785 \n",
      "\n",
      "Start running the insertion algorithm for the configuration: \n",
      "Vessel 0: 1, Vessel 1: 2, Demand level: low, Instance number: 0 \n",
      "\n",
      "Start the optimisation\n",
      "Optimisation completed! \n",
      "\n",
      "Calculation time: 121.09977459907532 \n",
      "\n",
      "Start running the insertion algorithm for the configuration: \n",
      "Vessel 0: 2, Vessel 1: 0, Demand level: low, Instance number: 0 \n",
      "\n",
      "Start the optimisation\n",
      "Optimisation completed! \n",
      "\n",
      "Calculation time: 24.777849435806274 \n",
      "\n",
      "Start running the insertion algorithm for the configuration: \n",
      "Vessel 0: 2, Vessel 1: 1, Demand level: low, Instance number: 0 \n",
      "\n",
      "Start the optimisation\n",
      "Optimisation completed! \n",
      "\n",
      "Calculation time: 41.319560527801514 \n",
      "\n",
      "Start running the insertion algorithm for the configuration: \n",
      "Vessel 0: 2, Vessel 1: 2, Demand level: low, Instance number: 0 \n",
      "\n",
      "Start the optimisation\n",
      "Optimisation completed! \n",
      "\n",
      "Calculation time: 10.357573986053467 \n",
      "\n"
     ]
    }
   ],
   "source": [
    "dict_df_results = {}\n",
    "dict_figures = {}\n",
    "for file in filenames:\n",
    "    demand_levels = file.split('_')[6]\n",
    "    instance_number = file.split('_')[8].split('.')[0]\n",
    "    vessel_type_0 = int(file.split('_')[2])\n",
    "    vessel_type_1 = int(file.split('_')[4])\n",
    "    data_path = f'../Results_requests/{file}'\n",
    "    print(\"Start running the insertion algorithm for the configuration: \")\n",
    "    print(f'Vessel 0: {vessel_type_0}, Vessel 1: {vessel_type_1}, Demand level: {demand_levels}, Instance number: {instance_number}', \"\\n\")\n",
    "    start = time.time()\n",
    "    df_results, fig_dict = Main_insertion.main(data_path, output_folder, scenario=demand_levels, instance=instance_number, pattern=[vessel_type_0, vessel_type_1])\n",
    "    dict_df_results[(vessel_type_0, vessel_type_1)] = df_results\n",
    "    dict_figures[(vessel_type_0, vessel_type_1)] = fig_dict\n",
    "    end = time.time()\n",
    "    print(f'Calculation time: {end-start}', \"\\n\")\n"
   ]
  },
  {
   "cell_type": "markdown",
   "metadata": {},
   "source": [
    "### Looking into the results"
   ]
  },
  {
   "cell_type": "code",
   "execution_count": 9,
   "metadata": {},
   "outputs": [],
   "source": [
    "# flip the keys and values\n",
    "vessel_types_inv = dict((v,k) for k,v in vessel_types.items())"
   ]
  },
  {
   "cell_type": "code",
   "execution_count": 11,
   "metadata": {},
   "outputs": [
    {
     "data": {
      "application/vnd.plotly.v1+json": {
       "config": {
        "plotlyServerURL": "https://plot.ly"
       },
       "data": [
        {
         "name": "Total distance [km]",
         "type": "bar",
         "width": 0.2,
         "x": [
          "Parcel - Passenger",
          "Parcel - Mixed",
          "Passenger - Parcel",
          "Passenger - Mixed",
          "Mixed - Parcel",
          "Mixed - Passenger",
          "Mixed - Mixed"
         ],
         "xaxis": "x",
         "y": [
          144.8518843367872,
          162.7780569251609,
          139.2052511943192,
          126.79935872177019,
          148.83134303950345,
          130.8678912074427,
          161.3373885887013
         ],
         "yaxis": "y"
        },
        {
         "name": "Total distance vessel 0 [km]",
         "type": "bar",
         "width": 0.2,
         "x": [
          "Parcel - Passenger",
          "Parcel - Mixed",
          "Passenger - Parcel",
          "Passenger - Mixed",
          "Mixed - Parcel",
          "Mixed - Passenger",
          "Mixed - Mixed"
         ],
         "xaxis": "x",
         "y": [
          93.96205006962835,
          64.22986423160052,
          50.05796750797161,
          32.63177088135593,
          83.3519821753556,
          92.13865958073397,
          82.05122878361121
         ],
         "yaxis": "y"
        },
        {
         "name": "Total distance vessel 1 [km]",
         "type": "bar",
         "width": 0.2,
         "x": [
          "Parcel - Passenger",
          "Parcel - Mixed",
          "Passenger - Parcel",
          "Passenger - Mixed",
          "Mixed - Parcel",
          "Mixed - Passenger",
          "Mixed - Mixed"
         ],
         "xaxis": "x",
         "y": [
          50.88983426715887,
          98.54819269356038,
          89.1472836863476,
          94.16758784041426,
          65.47936086414786,
          38.729231626708724,
          79.28615980509007
         ],
         "yaxis": "y"
        },
        {
         "mode": "lines+markers",
         "name": "Request met ratio",
         "type": "scatter",
         "x": [
          "Parcel - Passenger",
          "Parcel - Mixed",
          "Passenger - Parcel",
          "Passenger - Mixed",
          "Mixed - Parcel",
          "Mixed - Passenger",
          "Mixed - Mixed"
         ],
         "xaxis": "x",
         "y": [
          82.04,
          87.2,
          80.72,
          79.39,
          88.02,
          83.64,
          91.57
         ],
         "yaxis": "y2"
        }
       ],
       "layout": {
        "barmode": "group",
        "template": {
         "data": {
          "bar": [
           {
            "error_x": {
             "color": "#2a3f5f"
            },
            "error_y": {
             "color": "#2a3f5f"
            },
            "marker": {
             "line": {
              "color": "#E5ECF6",
              "width": 0.5
             },
             "pattern": {
              "fillmode": "overlay",
              "size": 10,
              "solidity": 0.2
             }
            },
            "type": "bar"
           }
          ],
          "barpolar": [
           {
            "marker": {
             "line": {
              "color": "#E5ECF6",
              "width": 0.5
             },
             "pattern": {
              "fillmode": "overlay",
              "size": 10,
              "solidity": 0.2
             }
            },
            "type": "barpolar"
           }
          ],
          "carpet": [
           {
            "aaxis": {
             "endlinecolor": "#2a3f5f",
             "gridcolor": "white",
             "linecolor": "white",
             "minorgridcolor": "white",
             "startlinecolor": "#2a3f5f"
            },
            "baxis": {
             "endlinecolor": "#2a3f5f",
             "gridcolor": "white",
             "linecolor": "white",
             "minorgridcolor": "white",
             "startlinecolor": "#2a3f5f"
            },
            "type": "carpet"
           }
          ],
          "choropleth": [
           {
            "colorbar": {
             "outlinewidth": 0,
             "ticks": ""
            },
            "type": "choropleth"
           }
          ],
          "contour": [
           {
            "colorbar": {
             "outlinewidth": 0,
             "ticks": ""
            },
            "colorscale": [
             [
              0,
              "#0d0887"
             ],
             [
              0.1111111111111111,
              "#46039f"
             ],
             [
              0.2222222222222222,
              "#7201a8"
             ],
             [
              0.3333333333333333,
              "#9c179e"
             ],
             [
              0.4444444444444444,
              "#bd3786"
             ],
             [
              0.5555555555555556,
              "#d8576b"
             ],
             [
              0.6666666666666666,
              "#ed7953"
             ],
             [
              0.7777777777777778,
              "#fb9f3a"
             ],
             [
              0.8888888888888888,
              "#fdca26"
             ],
             [
              1,
              "#f0f921"
             ]
            ],
            "type": "contour"
           }
          ],
          "contourcarpet": [
           {
            "colorbar": {
             "outlinewidth": 0,
             "ticks": ""
            },
            "type": "contourcarpet"
           }
          ],
          "heatmap": [
           {
            "colorbar": {
             "outlinewidth": 0,
             "ticks": ""
            },
            "colorscale": [
             [
              0,
              "#0d0887"
             ],
             [
              0.1111111111111111,
              "#46039f"
             ],
             [
              0.2222222222222222,
              "#7201a8"
             ],
             [
              0.3333333333333333,
              "#9c179e"
             ],
             [
              0.4444444444444444,
              "#bd3786"
             ],
             [
              0.5555555555555556,
              "#d8576b"
             ],
             [
              0.6666666666666666,
              "#ed7953"
             ],
             [
              0.7777777777777778,
              "#fb9f3a"
             ],
             [
              0.8888888888888888,
              "#fdca26"
             ],
             [
              1,
              "#f0f921"
             ]
            ],
            "type": "heatmap"
           }
          ],
          "heatmapgl": [
           {
            "colorbar": {
             "outlinewidth": 0,
             "ticks": ""
            },
            "colorscale": [
             [
              0,
              "#0d0887"
             ],
             [
              0.1111111111111111,
              "#46039f"
             ],
             [
              0.2222222222222222,
              "#7201a8"
             ],
             [
              0.3333333333333333,
              "#9c179e"
             ],
             [
              0.4444444444444444,
              "#bd3786"
             ],
             [
              0.5555555555555556,
              "#d8576b"
             ],
             [
              0.6666666666666666,
              "#ed7953"
             ],
             [
              0.7777777777777778,
              "#fb9f3a"
             ],
             [
              0.8888888888888888,
              "#fdca26"
             ],
             [
              1,
              "#f0f921"
             ]
            ],
            "type": "heatmapgl"
           }
          ],
          "histogram": [
           {
            "marker": {
             "pattern": {
              "fillmode": "overlay",
              "size": 10,
              "solidity": 0.2
             }
            },
            "type": "histogram"
           }
          ],
          "histogram2d": [
           {
            "colorbar": {
             "outlinewidth": 0,
             "ticks": ""
            },
            "colorscale": [
             [
              0,
              "#0d0887"
             ],
             [
              0.1111111111111111,
              "#46039f"
             ],
             [
              0.2222222222222222,
              "#7201a8"
             ],
             [
              0.3333333333333333,
              "#9c179e"
             ],
             [
              0.4444444444444444,
              "#bd3786"
             ],
             [
              0.5555555555555556,
              "#d8576b"
             ],
             [
              0.6666666666666666,
              "#ed7953"
             ],
             [
              0.7777777777777778,
              "#fb9f3a"
             ],
             [
              0.8888888888888888,
              "#fdca26"
             ],
             [
              1,
              "#f0f921"
             ]
            ],
            "type": "histogram2d"
           }
          ],
          "histogram2dcontour": [
           {
            "colorbar": {
             "outlinewidth": 0,
             "ticks": ""
            },
            "colorscale": [
             [
              0,
              "#0d0887"
             ],
             [
              0.1111111111111111,
              "#46039f"
             ],
             [
              0.2222222222222222,
              "#7201a8"
             ],
             [
              0.3333333333333333,
              "#9c179e"
             ],
             [
              0.4444444444444444,
              "#bd3786"
             ],
             [
              0.5555555555555556,
              "#d8576b"
             ],
             [
              0.6666666666666666,
              "#ed7953"
             ],
             [
              0.7777777777777778,
              "#fb9f3a"
             ],
             [
              0.8888888888888888,
              "#fdca26"
             ],
             [
              1,
              "#f0f921"
             ]
            ],
            "type": "histogram2dcontour"
           }
          ],
          "mesh3d": [
           {
            "colorbar": {
             "outlinewidth": 0,
             "ticks": ""
            },
            "type": "mesh3d"
           }
          ],
          "parcoords": [
           {
            "line": {
             "colorbar": {
              "outlinewidth": 0,
              "ticks": ""
             }
            },
            "type": "parcoords"
           }
          ],
          "pie": [
           {
            "automargin": true,
            "type": "pie"
           }
          ],
          "scatter": [
           {
            "fillpattern": {
             "fillmode": "overlay",
             "size": 10,
             "solidity": 0.2
            },
            "type": "scatter"
           }
          ],
          "scatter3d": [
           {
            "line": {
             "colorbar": {
              "outlinewidth": 0,
              "ticks": ""
             }
            },
            "marker": {
             "colorbar": {
              "outlinewidth": 0,
              "ticks": ""
             }
            },
            "type": "scatter3d"
           }
          ],
          "scattercarpet": [
           {
            "marker": {
             "colorbar": {
              "outlinewidth": 0,
              "ticks": ""
             }
            },
            "type": "scattercarpet"
           }
          ],
          "scattergeo": [
           {
            "marker": {
             "colorbar": {
              "outlinewidth": 0,
              "ticks": ""
             }
            },
            "type": "scattergeo"
           }
          ],
          "scattergl": [
           {
            "marker": {
             "colorbar": {
              "outlinewidth": 0,
              "ticks": ""
             }
            },
            "type": "scattergl"
           }
          ],
          "scattermapbox": [
           {
            "marker": {
             "colorbar": {
              "outlinewidth": 0,
              "ticks": ""
             }
            },
            "type": "scattermapbox"
           }
          ],
          "scatterpolar": [
           {
            "marker": {
             "colorbar": {
              "outlinewidth": 0,
              "ticks": ""
             }
            },
            "type": "scatterpolar"
           }
          ],
          "scatterpolargl": [
           {
            "marker": {
             "colorbar": {
              "outlinewidth": 0,
              "ticks": ""
             }
            },
            "type": "scatterpolargl"
           }
          ],
          "scatterternary": [
           {
            "marker": {
             "colorbar": {
              "outlinewidth": 0,
              "ticks": ""
             }
            },
            "type": "scatterternary"
           }
          ],
          "surface": [
           {
            "colorbar": {
             "outlinewidth": 0,
             "ticks": ""
            },
            "colorscale": [
             [
              0,
              "#0d0887"
             ],
             [
              0.1111111111111111,
              "#46039f"
             ],
             [
              0.2222222222222222,
              "#7201a8"
             ],
             [
              0.3333333333333333,
              "#9c179e"
             ],
             [
              0.4444444444444444,
              "#bd3786"
             ],
             [
              0.5555555555555556,
              "#d8576b"
             ],
             [
              0.6666666666666666,
              "#ed7953"
             ],
             [
              0.7777777777777778,
              "#fb9f3a"
             ],
             [
              0.8888888888888888,
              "#fdca26"
             ],
             [
              1,
              "#f0f921"
             ]
            ],
            "type": "surface"
           }
          ],
          "table": [
           {
            "cells": {
             "fill": {
              "color": "#EBF0F8"
             },
             "line": {
              "color": "white"
             }
            },
            "header": {
             "fill": {
              "color": "#C8D4E3"
             },
             "line": {
              "color": "white"
             }
            },
            "type": "table"
           }
          ]
         },
         "layout": {
          "annotationdefaults": {
           "arrowcolor": "#2a3f5f",
           "arrowhead": 0,
           "arrowwidth": 1
          },
          "autotypenumbers": "strict",
          "coloraxis": {
           "colorbar": {
            "outlinewidth": 0,
            "ticks": ""
           }
          },
          "colorscale": {
           "diverging": [
            [
             0,
             "#8e0152"
            ],
            [
             0.1,
             "#c51b7d"
            ],
            [
             0.2,
             "#de77ae"
            ],
            [
             0.3,
             "#f1b6da"
            ],
            [
             0.4,
             "#fde0ef"
            ],
            [
             0.5,
             "#f7f7f7"
            ],
            [
             0.6,
             "#e6f5d0"
            ],
            [
             0.7,
             "#b8e186"
            ],
            [
             0.8,
             "#7fbc41"
            ],
            [
             0.9,
             "#4d9221"
            ],
            [
             1,
             "#276419"
            ]
           ],
           "sequential": [
            [
             0,
             "#0d0887"
            ],
            [
             0.1111111111111111,
             "#46039f"
            ],
            [
             0.2222222222222222,
             "#7201a8"
            ],
            [
             0.3333333333333333,
             "#9c179e"
            ],
            [
             0.4444444444444444,
             "#bd3786"
            ],
            [
             0.5555555555555556,
             "#d8576b"
            ],
            [
             0.6666666666666666,
             "#ed7953"
            ],
            [
             0.7777777777777778,
             "#fb9f3a"
            ],
            [
             0.8888888888888888,
             "#fdca26"
            ],
            [
             1,
             "#f0f921"
            ]
           ],
           "sequentialminus": [
            [
             0,
             "#0d0887"
            ],
            [
             0.1111111111111111,
             "#46039f"
            ],
            [
             0.2222222222222222,
             "#7201a8"
            ],
            [
             0.3333333333333333,
             "#9c179e"
            ],
            [
             0.4444444444444444,
             "#bd3786"
            ],
            [
             0.5555555555555556,
             "#d8576b"
            ],
            [
             0.6666666666666666,
             "#ed7953"
            ],
            [
             0.7777777777777778,
             "#fb9f3a"
            ],
            [
             0.8888888888888888,
             "#fdca26"
            ],
            [
             1,
             "#f0f921"
            ]
           ]
          },
          "colorway": [
           "#636efa",
           "#EF553B",
           "#00cc96",
           "#ab63fa",
           "#FFA15A",
           "#19d3f3",
           "#FF6692",
           "#B6E880",
           "#FF97FF",
           "#FECB52"
          ],
          "font": {
           "color": "#2a3f5f"
          },
          "geo": {
           "bgcolor": "white",
           "lakecolor": "white",
           "landcolor": "#E5ECF6",
           "showlakes": true,
           "showland": true,
           "subunitcolor": "white"
          },
          "hoverlabel": {
           "align": "left"
          },
          "hovermode": "closest",
          "mapbox": {
           "style": "light"
          },
          "paper_bgcolor": "white",
          "plot_bgcolor": "#E5ECF6",
          "polar": {
           "angularaxis": {
            "gridcolor": "white",
            "linecolor": "white",
            "ticks": ""
           },
           "bgcolor": "#E5ECF6",
           "radialaxis": {
            "gridcolor": "white",
            "linecolor": "white",
            "ticks": ""
           }
          },
          "scene": {
           "xaxis": {
            "backgroundcolor": "#E5ECF6",
            "gridcolor": "white",
            "gridwidth": 2,
            "linecolor": "white",
            "showbackground": true,
            "ticks": "",
            "zerolinecolor": "white"
           },
           "yaxis": {
            "backgroundcolor": "#E5ECF6",
            "gridcolor": "white",
            "gridwidth": 2,
            "linecolor": "white",
            "showbackground": true,
            "ticks": "",
            "zerolinecolor": "white"
           },
           "zaxis": {
            "backgroundcolor": "#E5ECF6",
            "gridcolor": "white",
            "gridwidth": 2,
            "linecolor": "white",
            "showbackground": true,
            "ticks": "",
            "zerolinecolor": "white"
           }
          },
          "shapedefaults": {
           "line": {
            "color": "#2a3f5f"
           }
          },
          "ternary": {
           "aaxis": {
            "gridcolor": "white",
            "linecolor": "white",
            "ticks": ""
           },
           "baxis": {
            "gridcolor": "white",
            "linecolor": "white",
            "ticks": ""
           },
           "bgcolor": "#E5ECF6",
           "caxis": {
            "gridcolor": "white",
            "linecolor": "white",
            "ticks": ""
           }
          },
          "title": {
           "x": 0.05
          },
          "xaxis": {
           "automargin": true,
           "gridcolor": "white",
           "linecolor": "white",
           "ticks": "",
           "title": {
            "standoff": 15
           },
           "zerolinecolor": "white",
           "zerolinewidth": 2
          },
          "yaxis": {
           "automargin": true,
           "gridcolor": "white",
           "linecolor": "white",
           "ticks": "",
           "title": {
            "standoff": 15
           },
           "zerolinecolor": "white",
           "zerolinewidth": 2
          }
         }
        },
        "title": {
         "text": "Total distance for each pattern"
        },
        "xaxis": {
         "anchor": "y",
         "domain": [
          0,
          0.94
         ],
         "title": {
          "text": "Pattern"
         }
        },
        "yaxis": {
         "anchor": "x",
         "domain": [
          0,
          1
         ],
         "title": {
          "text": "Total distance [km]"
         }
        },
        "yaxis2": {
         "anchor": "x",
         "overlaying": "y",
         "side": "right",
         "title": {
          "text": "Met ratio [%]"
         }
        }
       }
      }
     },
     "metadata": {},
     "output_type": "display_data"
    }
   ],
   "source": [
    "# Visualise the final total distance for each pattern as a bar chart\n",
    "# collect the final total distance for each pattern\n",
    "\n",
    "total_distances = [dict_df_results[key].iloc[-1]['Total_dist'] for key in dict_df_results.keys()]\n",
    "total_distances_k0 = [dict_df_results[key].iloc[-1]['Travel_distance_k0'] for key in dict_df_results.keys()]\n",
    "total_distances_k1 = [dict_df_results[key].iloc[-1]['Travel_distance_k1'] for key in dict_df_results.keys()]\n",
    "\n",
    "# collect the final met ratio for each pattern\n",
    "met_ratios = [round(dict_df_results[key].iloc[-1]['Met_Ratio']*100, 2) for key in dict_df_results.keys()]\n",
    "\n",
    "\n",
    "fig = make_subplots(specs=[[{'secondary_y': True}]])\n",
    "\n",
    "fig.add_trace(go.Bar(x=[f'{vessel_types_inv[int(key[0])]} - {vessel_types_inv[int(key[1])]}' for key in dict_df_results.keys()], y=total_distances, name='Total distance [km]'), secondary_y=False)\n",
    "fig.add_trace(go.Bar(x=[f'{vessel_types_inv[int(key[0])]} - {vessel_types_inv[int(key[1])]}' for key in dict_df_results.keys()], y=total_distances_k0, name='Total distance vessel 0 [km]'), secondary_y=False)\n",
    "fig.add_trace(go.Bar(x=[f'{vessel_types_inv[int(key[0])]} - {vessel_types_inv[int(key[1])]}' for key in dict_df_results.keys()], y=total_distances_k1, name='Total distance vessel 1 [km]'), secondary_y=False)\n",
    "fig.update_traces(width=0.2)\n",
    "\n",
    "\n",
    "fig.add_trace(go.Scatter(x=[f'{vessel_types_inv[int(key[0])]} - {vessel_types_inv[int(key[1])]}' for key in dict_df_results.keys()], y=met_ratios, mode='lines+markers', name='Request met ratio'), secondary_y=True)\n",
    "\n",
    "fig.update_yaxes(title_text=\"Total distance [km]\", secondary_y=False)\n",
    "fig.update_yaxes(title_text=\"Met ratio [%]\", secondary_y=True)\n",
    "fig.update_layout(title='Total distance for each pattern', xaxis_title='Pattern', barmode='group')\n",
    "\n",
    "\n",
    "fig.show()"
   ]
  },
  {
   "cell_type": "code",
   "execution_count": 12,
   "metadata": {},
   "outputs": [
    {
     "data": {
      "text/plain": [
       "dict_keys([3, 4, 15, 19, 24, 28, 49, 52, 60, 68, 75, 80, 86, 91, 97, 102, 109, 113, 114, 117, 123, 124, 125, 137, 143, 159, 162, 164, 172, 183, 184, 185, 196, 197, 198, 201, 202, 204, 221, 223, 229, 237, 243, 244, 245, 249, 276, 278, 282, 284, 290, 292, 295, 300, 305, 308, 310, 319, 326, 337, 348, 350, 353, 362, 368, 369, 375, 378, 388, 389, 390, 392, 396, 399, 402, 407, 412, 415, 420, 422, 423, 432, 442, 447, 453, 463, 466, 470, 473, 480, 481, 485, 494, 500, 504, 516, 519, 527, 532, 541, 542, 547, 550, 563, 572, 576, 596, 600, 603, 606, 622, 637, 640, 643, 666, 671, 680, 685, 688, 689, 693, 703, 708, 722, 723, 728, 744, 747, 765, 767, 769, 770, 774, 816, 821, 823, 829, 830, 833, 836, 837, 843, 845, 849, 852, 866, 868, 877, 890, 892, 898, 912, 944])"
      ]
     },
     "execution_count": 12,
     "metadata": {},
     "output_type": "execute_result"
    }
   ],
   "source": [
    "dict_figures[(0,1)].keys()"
   ]
  },
  {
   "cell_type": "code",
   "execution_count": 18,
   "metadata": {},
   "outputs": [
    {
     "data": {
      "application/vnd.plotly.v1+json": {
       "config": {
        "plotlyServerURL": "https://plot.ly"
       },
       "data": [
        {
         "marker": {
          "color": "grey",
          "size": 15
         },
         "mode": "markers",
         "name": "0",
         "text": "0",
         "type": "scatter",
         "x": [
          10.952148575960766
         ],
         "y": [
          59.20624414544478
         ]
        },
        {
         "marker": {
          "color": "grey",
          "size": 15
         },
         "mode": "markers",
         "name": "1",
         "text": "1",
         "type": "scatter",
         "x": [
          10.953848896406065
         ],
         "y": [
          59.20505336433007
         ]
        },
        {
         "marker": {
          "color": "grey",
          "size": 15
         },
         "mode": "markers",
         "name": "2",
         "text": "2",
         "type": "scatter",
         "x": [
          10.948483539469645
         ],
         "y": [
          59.20419504360883
         ]
        },
        {
         "marker": {
          "color": "grey",
          "size": 15
         },
         "mode": "markers",
         "name": "3",
         "text": "3",
         "type": "scatter",
         "x": [
          10.941967532282067
         ],
         "y": [
          59.20493344848135
         ]
        },
        {
         "marker": {
          "color": "grey",
          "size": 15
         },
         "mode": "markers",
         "name": "4",
         "text": "4",
         "type": "scatter",
         "x": [
          10.9374275416636
         ],
         "y": [
          59.213146359811816
         ]
        },
        {
         "marker": {
          "color": "grey",
          "size": 15
         },
         "mode": "markers",
         "name": "5",
         "text": "5",
         "type": "scatter",
         "x": [
          10.932725076055105
         ],
         "y": [
          59.21447250920703
         ]
        },
        {
         "marker": {
          "color": "grey",
          "size": 15
         },
         "mode": "markers",
         "name": "6",
         "text": "6",
         "type": "scatter",
         "x": [
          10.912844574722243
         ],
         "y": [
          59.21520140344128
         ]
        },
        {
         "marker": {
          "color": "grey",
          "size": 15
         },
         "mode": "markers",
         "name": "7",
         "text": "7",
         "type": "scatter",
         "x": [
          10.897967279241245
         ],
         "y": [
          59.20777583058782
         ]
        },
        {
         "line": {
          "color": "green",
          "width": 2
         },
         "marker": {
          "angleref": "previous",
          "color": "green",
          "size": 10,
          "symbol": "arrow-bar-up"
         },
         "mode": "lines+markers",
         "name": "Vessel 0",
         "text": "Vessel 0",
         "type": "scatter",
         "x": [
          10.948828831574316,
          10.952148575960766
         ],
         "y": [
          59.20657378624815,
          59.20624414544478
         ]
        },
        {
         "marker": {
          "color": "green",
          "size": 15
         },
         "mode": "markers",
         "name": "Vessel 0",
         "text": "Vessel 0",
         "type": "scatter",
         "x": [
          10.948828831574316
         ],
         "y": [
          59.20657378624815
         ]
        },
        {
         "mode": "text",
         "showlegend": false,
         "text": [
          "Departure: 685"
         ],
         "textfont": {
          "color": "green",
          "size": 10
         },
         "type": "scatter",
         "x": [
          10.948828831574316
         ],
         "y": [
          59.20557378624815
         ]
        },
        {
         "mode": "text",
         "showlegend": false,
         "text": [
          "Arrival: 686.036"
         ],
         "textfont": {
          "color": "green",
          "size": 10
         },
         "type": "scatter",
         "x": [
          10.952148575960766
         ],
         "y": [
          59.207244145444776
         ]
        },
        {
         "line": {
          "color": "green",
          "width": 2
         },
         "marker": {
          "angleref": "previous",
          "color": "green",
          "size": 10,
          "symbol": "arrow-bar-up"
         },
         "mode": "lines+markers",
         "name": "Vessel 0",
         "text": "Vessel 0",
         "type": "scatter",
         "x": [
          10.952148575960766,
          10.941967532282067
         ],
         "y": [
          59.20624414544478,
          59.20493344848135
         ]
        },
        {
         "marker": {
          "color": "green",
          "size": 15
         },
         "mode": "markers",
         "name": "Vessel 0",
         "text": "Vessel 0",
         "type": "scatter",
         "x": [
          10.952148575960766
         ],
         "y": [
          59.20624414544478
         ]
        },
        {
         "mode": "text",
         "showlegend": false,
         "text": [
          "Departure: 686.536"
         ],
         "textfont": {
          "color": "green",
          "size": 10
         },
         "type": "scatter",
         "x": [
          10.952148575960766
         ],
         "y": [
          59.20524414544478
         ]
        },
        {
         "mode": "text",
         "showlegend": false,
         "text": [
          "Arrival: 689.751"
         ],
         "textfont": {
          "color": "green",
          "size": 10
         },
         "type": "scatter",
         "x": [
          10.941967532282067
         ],
         "y": [
          59.205933448481346
         ]
        },
        {
         "line": {
          "color": "green",
          "width": 2
         },
         "marker": {
          "angleref": "previous",
          "color": "green",
          "size": 10,
          "symbol": "arrow-bar-up"
         },
         "mode": "lines+markers",
         "name": "Vessel 0",
         "text": "Vessel 0",
         "type": "scatter",
         "x": [
          10.941967532282067,
          10.912844574722243
         ],
         "y": [
          59.20493344848135,
          59.21520140344128
         ]
        },
        {
         "marker": {
          "color": "green",
          "size": 15
         },
         "mode": "markers",
         "name": "Vessel 0",
         "text": "Vessel 0",
         "type": "scatter",
         "x": [
          10.941967532282067
         ],
         "y": [
          59.20493344848135
         ]
        },
        {
         "mode": "text",
         "showlegend": false,
         "text": [
          "Departure: 689.751"
         ],
         "textfont": {
          "color": "green",
          "size": 10
         },
         "type": "scatter",
         "x": [
          10.941967532282067
         ],
         "y": [
          59.20393344848135
         ]
        },
        {
         "mode": "text",
         "showlegend": false,
         "text": [
          "Arrival: 700.574"
         ],
         "textfont": {
          "color": "green",
          "size": 10
         },
         "type": "scatter",
         "x": [
          10.912844574722243
         ],
         "y": [
          59.216201403441275
         ]
        },
        {
         "line": {
          "color": "green",
          "width": 2
         },
         "marker": {
          "angleref": "previous",
          "color": "green",
          "size": 10,
          "symbol": "arrow-bar-up"
         },
         "mode": "lines+markers",
         "name": "Vessel 0",
         "text": "Vessel 0",
         "type": "scatter",
         "x": [
          10.912844574722243,
          10.897967279241245
         ],
         "y": [
          59.21520140344128,
          59.20777583058782
         ]
        },
        {
         "marker": {
          "color": "green",
          "size": 15
         },
         "mode": "markers",
         "name": "Vessel 0",
         "text": "Vessel 0",
         "type": "scatter",
         "x": [
          10.912844574722243
         ],
         "y": [
          59.21520140344128
         ]
        },
        {
         "mode": "text",
         "showlegend": false,
         "text": [
          "Departure: 700.574"
         ],
         "textfont": {
          "color": "green",
          "size": 10
         },
         "type": "scatter",
         "x": [
          10.912844574722243
         ],
         "y": [
          59.21420140344128
         ]
        },
        {
         "mode": "text",
         "showlegend": false,
         "text": [
          "Arrival: 706.932"
         ],
         "textfont": {
          "color": "green",
          "size": 10
         },
         "type": "scatter",
         "x": [
          10.897967279241245
         ],
         "y": [
          59.20877583058782
         ]
        },
        {
         "line": {
          "color": "blue",
          "width": 2
         },
         "marker": {
          "angleref": "previous",
          "color": "blue",
          "size": 10,
          "symbol": "arrow-bar-up"
         },
         "mode": "lines+markers",
         "name": "Vessel 1",
         "text": "Vessel 1",
         "type": "scatter",
         "x": [
          10.9374275416636,
          10.897967279241245
         ],
         "y": [
          59.213146359811816,
          59.20777583058782
         ]
        },
        {
         "marker": {
          "color": "blue",
          "size": 15
         },
         "mode": "markers",
         "name": "Vessel 1",
         "text": "Vessel 1",
         "type": "scatter",
         "x": [
          10.9374275416636
         ],
         "y": [
          59.213146359811816
         ]
        },
        {
         "mode": "text",
         "showlegend": false,
         "text": [
          "Departure: 685"
         ],
         "textfont": {
          "color": "blue",
          "size": 10
         },
         "type": "scatter",
         "x": [
          10.9374275416636
         ],
         "y": [
          59.21214635981182
         ]
        },
        {
         "mode": "text",
         "showlegend": false,
         "text": [
          "Arrival: 697.503"
         ],
         "textfont": {
          "color": "blue",
          "size": 10
         },
         "type": "scatter",
         "x": [
          10.897967279241245
         ],
         "y": [
          59.20877583058782
         ]
        },
        {
         "line": {
          "color": "blue",
          "width": 2
         },
         "marker": {
          "angleref": "previous",
          "color": "blue",
          "size": 10,
          "symbol": "arrow-bar-up"
         },
         "mode": "lines+markers",
         "name": "Vessel 1",
         "text": "Vessel 1",
         "type": "scatter",
         "x": [
          10.897967279241245,
          10.932725076055105
         ],
         "y": [
          59.20777583058782,
          59.21447250920703
         ]
        },
        {
         "marker": {
          "color": "blue",
          "size": 15
         },
         "mode": "markers",
         "name": "Vessel 1",
         "text": "Vessel 1",
         "type": "scatter",
         "x": [
          10.897967279241245
         ],
         "y": [
          59.20777583058782
         ]
        },
        {
         "mode": "text",
         "showlegend": false,
         "text": [
          "Departure: 698.003"
         ],
         "textfont": {
          "color": "blue",
          "size": 10
         },
         "type": "scatter",
         "x": [
          10.897967279241245
         ],
         "y": [
          59.20677583058782
         ]
        },
        {
         "mode": "text",
         "showlegend": false,
         "text": [
          "Arrival: 709.373"
         ],
         "textfont": {
          "color": "blue",
          "size": 10
         },
         "type": "scatter",
         "x": [
          10.932725076055105
         ],
         "y": [
          59.215472509207025
         ]
        },
        {
         "mode": "text",
         "showlegend": false,
         "text": [
          "0"
         ],
         "textfont": {
          "color": "black",
          "size": 12
         },
         "type": "scatter",
         "x": [
          10.952148575960766
         ],
         "y": [
          59.20624414544478
         ]
        },
        {
         "mode": "text",
         "showlegend": false,
         "text": [
          "1"
         ],
         "textfont": {
          "color": "black",
          "size": 12
         },
         "type": "scatter",
         "x": [
          10.953848896406065
         ],
         "y": [
          59.20505336433007
         ]
        },
        {
         "mode": "text",
         "showlegend": false,
         "text": [
          "2"
         ],
         "textfont": {
          "color": "black",
          "size": 12
         },
         "type": "scatter",
         "x": [
          10.948483539469645
         ],
         "y": [
          59.20419504360883
         ]
        },
        {
         "mode": "text",
         "showlegend": false,
         "text": [
          "3"
         ],
         "textfont": {
          "color": "black",
          "size": 12
         },
         "type": "scatter",
         "x": [
          10.941967532282067
         ],
         "y": [
          59.20493344848135
         ]
        },
        {
         "mode": "text",
         "showlegend": false,
         "text": [
          "4"
         ],
         "textfont": {
          "color": "black",
          "size": 12
         },
         "type": "scatter",
         "x": [
          10.9374275416636
         ],
         "y": [
          59.213146359811816
         ]
        },
        {
         "mode": "text",
         "showlegend": false,
         "text": [
          "5"
         ],
         "textfont": {
          "color": "black",
          "size": 12
         },
         "type": "scatter",
         "x": [
          10.932725076055105
         ],
         "y": [
          59.21447250920703
         ]
        },
        {
         "mode": "text",
         "showlegend": false,
         "text": [
          "6"
         ],
         "textfont": {
          "color": "black",
          "size": 12
         },
         "type": "scatter",
         "x": [
          10.912844574722243
         ],
         "y": [
          59.21520140344128
         ]
        },
        {
         "mode": "text",
         "showlegend": false,
         "text": [
          "7"
         ],
         "textfont": {
          "color": "black",
          "size": 12
         },
         "type": "scatter",
         "x": [
          10.897967279241245
         ],
         "y": [
          59.20777583058782
         ]
        }
       ],
       "layout": {
        "template": {
         "data": {
          "bar": [
           {
            "error_x": {
             "color": "#2a3f5f"
            },
            "error_y": {
             "color": "#2a3f5f"
            },
            "marker": {
             "line": {
              "color": "#E5ECF6",
              "width": 0.5
             },
             "pattern": {
              "fillmode": "overlay",
              "size": 10,
              "solidity": 0.2
             }
            },
            "type": "bar"
           }
          ],
          "barpolar": [
           {
            "marker": {
             "line": {
              "color": "#E5ECF6",
              "width": 0.5
             },
             "pattern": {
              "fillmode": "overlay",
              "size": 10,
              "solidity": 0.2
             }
            },
            "type": "barpolar"
           }
          ],
          "carpet": [
           {
            "aaxis": {
             "endlinecolor": "#2a3f5f",
             "gridcolor": "white",
             "linecolor": "white",
             "minorgridcolor": "white",
             "startlinecolor": "#2a3f5f"
            },
            "baxis": {
             "endlinecolor": "#2a3f5f",
             "gridcolor": "white",
             "linecolor": "white",
             "minorgridcolor": "white",
             "startlinecolor": "#2a3f5f"
            },
            "type": "carpet"
           }
          ],
          "choropleth": [
           {
            "colorbar": {
             "outlinewidth": 0,
             "ticks": ""
            },
            "type": "choropleth"
           }
          ],
          "contour": [
           {
            "colorbar": {
             "outlinewidth": 0,
             "ticks": ""
            },
            "colorscale": [
             [
              0,
              "#0d0887"
             ],
             [
              0.1111111111111111,
              "#46039f"
             ],
             [
              0.2222222222222222,
              "#7201a8"
             ],
             [
              0.3333333333333333,
              "#9c179e"
             ],
             [
              0.4444444444444444,
              "#bd3786"
             ],
             [
              0.5555555555555556,
              "#d8576b"
             ],
             [
              0.6666666666666666,
              "#ed7953"
             ],
             [
              0.7777777777777778,
              "#fb9f3a"
             ],
             [
              0.8888888888888888,
              "#fdca26"
             ],
             [
              1,
              "#f0f921"
             ]
            ],
            "type": "contour"
           }
          ],
          "contourcarpet": [
           {
            "colorbar": {
             "outlinewidth": 0,
             "ticks": ""
            },
            "type": "contourcarpet"
           }
          ],
          "heatmap": [
           {
            "colorbar": {
             "outlinewidth": 0,
             "ticks": ""
            },
            "colorscale": [
             [
              0,
              "#0d0887"
             ],
             [
              0.1111111111111111,
              "#46039f"
             ],
             [
              0.2222222222222222,
              "#7201a8"
             ],
             [
              0.3333333333333333,
              "#9c179e"
             ],
             [
              0.4444444444444444,
              "#bd3786"
             ],
             [
              0.5555555555555556,
              "#d8576b"
             ],
             [
              0.6666666666666666,
              "#ed7953"
             ],
             [
              0.7777777777777778,
              "#fb9f3a"
             ],
             [
              0.8888888888888888,
              "#fdca26"
             ],
             [
              1,
              "#f0f921"
             ]
            ],
            "type": "heatmap"
           }
          ],
          "heatmapgl": [
           {
            "colorbar": {
             "outlinewidth": 0,
             "ticks": ""
            },
            "colorscale": [
             [
              0,
              "#0d0887"
             ],
             [
              0.1111111111111111,
              "#46039f"
             ],
             [
              0.2222222222222222,
              "#7201a8"
             ],
             [
              0.3333333333333333,
              "#9c179e"
             ],
             [
              0.4444444444444444,
              "#bd3786"
             ],
             [
              0.5555555555555556,
              "#d8576b"
             ],
             [
              0.6666666666666666,
              "#ed7953"
             ],
             [
              0.7777777777777778,
              "#fb9f3a"
             ],
             [
              0.8888888888888888,
              "#fdca26"
             ],
             [
              1,
              "#f0f921"
             ]
            ],
            "type": "heatmapgl"
           }
          ],
          "histogram": [
           {
            "marker": {
             "pattern": {
              "fillmode": "overlay",
              "size": 10,
              "solidity": 0.2
             }
            },
            "type": "histogram"
           }
          ],
          "histogram2d": [
           {
            "colorbar": {
             "outlinewidth": 0,
             "ticks": ""
            },
            "colorscale": [
             [
              0,
              "#0d0887"
             ],
             [
              0.1111111111111111,
              "#46039f"
             ],
             [
              0.2222222222222222,
              "#7201a8"
             ],
             [
              0.3333333333333333,
              "#9c179e"
             ],
             [
              0.4444444444444444,
              "#bd3786"
             ],
             [
              0.5555555555555556,
              "#d8576b"
             ],
             [
              0.6666666666666666,
              "#ed7953"
             ],
             [
              0.7777777777777778,
              "#fb9f3a"
             ],
             [
              0.8888888888888888,
              "#fdca26"
             ],
             [
              1,
              "#f0f921"
             ]
            ],
            "type": "histogram2d"
           }
          ],
          "histogram2dcontour": [
           {
            "colorbar": {
             "outlinewidth": 0,
             "ticks": ""
            },
            "colorscale": [
             [
              0,
              "#0d0887"
             ],
             [
              0.1111111111111111,
              "#46039f"
             ],
             [
              0.2222222222222222,
              "#7201a8"
             ],
             [
              0.3333333333333333,
              "#9c179e"
             ],
             [
              0.4444444444444444,
              "#bd3786"
             ],
             [
              0.5555555555555556,
              "#d8576b"
             ],
             [
              0.6666666666666666,
              "#ed7953"
             ],
             [
              0.7777777777777778,
              "#fb9f3a"
             ],
             [
              0.8888888888888888,
              "#fdca26"
             ],
             [
              1,
              "#f0f921"
             ]
            ],
            "type": "histogram2dcontour"
           }
          ],
          "mesh3d": [
           {
            "colorbar": {
             "outlinewidth": 0,
             "ticks": ""
            },
            "type": "mesh3d"
           }
          ],
          "parcoords": [
           {
            "line": {
             "colorbar": {
              "outlinewidth": 0,
              "ticks": ""
             }
            },
            "type": "parcoords"
           }
          ],
          "pie": [
           {
            "automargin": true,
            "type": "pie"
           }
          ],
          "scatter": [
           {
            "fillpattern": {
             "fillmode": "overlay",
             "size": 10,
             "solidity": 0.2
            },
            "type": "scatter"
           }
          ],
          "scatter3d": [
           {
            "line": {
             "colorbar": {
              "outlinewidth": 0,
              "ticks": ""
             }
            },
            "marker": {
             "colorbar": {
              "outlinewidth": 0,
              "ticks": ""
             }
            },
            "type": "scatter3d"
           }
          ],
          "scattercarpet": [
           {
            "marker": {
             "colorbar": {
              "outlinewidth": 0,
              "ticks": ""
             }
            },
            "type": "scattercarpet"
           }
          ],
          "scattergeo": [
           {
            "marker": {
             "colorbar": {
              "outlinewidth": 0,
              "ticks": ""
             }
            },
            "type": "scattergeo"
           }
          ],
          "scattergl": [
           {
            "marker": {
             "colorbar": {
              "outlinewidth": 0,
              "ticks": ""
             }
            },
            "type": "scattergl"
           }
          ],
          "scattermapbox": [
           {
            "marker": {
             "colorbar": {
              "outlinewidth": 0,
              "ticks": ""
             }
            },
            "type": "scattermapbox"
           }
          ],
          "scatterpolar": [
           {
            "marker": {
             "colorbar": {
              "outlinewidth": 0,
              "ticks": ""
             }
            },
            "type": "scatterpolar"
           }
          ],
          "scatterpolargl": [
           {
            "marker": {
             "colorbar": {
              "outlinewidth": 0,
              "ticks": ""
             }
            },
            "type": "scatterpolargl"
           }
          ],
          "scatterternary": [
           {
            "marker": {
             "colorbar": {
              "outlinewidth": 0,
              "ticks": ""
             }
            },
            "type": "scatterternary"
           }
          ],
          "surface": [
           {
            "colorbar": {
             "outlinewidth": 0,
             "ticks": ""
            },
            "colorscale": [
             [
              0,
              "#0d0887"
             ],
             [
              0.1111111111111111,
              "#46039f"
             ],
             [
              0.2222222222222222,
              "#7201a8"
             ],
             [
              0.3333333333333333,
              "#9c179e"
             ],
             [
              0.4444444444444444,
              "#bd3786"
             ],
             [
              0.5555555555555556,
              "#d8576b"
             ],
             [
              0.6666666666666666,
              "#ed7953"
             ],
             [
              0.7777777777777778,
              "#fb9f3a"
             ],
             [
              0.8888888888888888,
              "#fdca26"
             ],
             [
              1,
              "#f0f921"
             ]
            ],
            "type": "surface"
           }
          ],
          "table": [
           {
            "cells": {
             "fill": {
              "color": "#EBF0F8"
             },
             "line": {
              "color": "white"
             }
            },
            "header": {
             "fill": {
              "color": "#C8D4E3"
             },
             "line": {
              "color": "white"
             }
            },
            "type": "table"
           }
          ]
         },
         "layout": {
          "annotationdefaults": {
           "arrowcolor": "#2a3f5f",
           "arrowhead": 0,
           "arrowwidth": 1
          },
          "autotypenumbers": "strict",
          "coloraxis": {
           "colorbar": {
            "outlinewidth": 0,
            "ticks": ""
           }
          },
          "colorscale": {
           "diverging": [
            [
             0,
             "#8e0152"
            ],
            [
             0.1,
             "#c51b7d"
            ],
            [
             0.2,
             "#de77ae"
            ],
            [
             0.3,
             "#f1b6da"
            ],
            [
             0.4,
             "#fde0ef"
            ],
            [
             0.5,
             "#f7f7f7"
            ],
            [
             0.6,
             "#e6f5d0"
            ],
            [
             0.7,
             "#b8e186"
            ],
            [
             0.8,
             "#7fbc41"
            ],
            [
             0.9,
             "#4d9221"
            ],
            [
             1,
             "#276419"
            ]
           ],
           "sequential": [
            [
             0,
             "#0d0887"
            ],
            [
             0.1111111111111111,
             "#46039f"
            ],
            [
             0.2222222222222222,
             "#7201a8"
            ],
            [
             0.3333333333333333,
             "#9c179e"
            ],
            [
             0.4444444444444444,
             "#bd3786"
            ],
            [
             0.5555555555555556,
             "#d8576b"
            ],
            [
             0.6666666666666666,
             "#ed7953"
            ],
            [
             0.7777777777777778,
             "#fb9f3a"
            ],
            [
             0.8888888888888888,
             "#fdca26"
            ],
            [
             1,
             "#f0f921"
            ]
           ],
           "sequentialminus": [
            [
             0,
             "#0d0887"
            ],
            [
             0.1111111111111111,
             "#46039f"
            ],
            [
             0.2222222222222222,
             "#7201a8"
            ],
            [
             0.3333333333333333,
             "#9c179e"
            ],
            [
             0.4444444444444444,
             "#bd3786"
            ],
            [
             0.5555555555555556,
             "#d8576b"
            ],
            [
             0.6666666666666666,
             "#ed7953"
            ],
            [
             0.7777777777777778,
             "#fb9f3a"
            ],
            [
             0.8888888888888888,
             "#fdca26"
            ],
            [
             1,
             "#f0f921"
            ]
           ]
          },
          "colorway": [
           "#636efa",
           "#EF553B",
           "#00cc96",
           "#ab63fa",
           "#FFA15A",
           "#19d3f3",
           "#FF6692",
           "#B6E880",
           "#FF97FF",
           "#FECB52"
          ],
          "font": {
           "color": "#2a3f5f"
          },
          "geo": {
           "bgcolor": "white",
           "lakecolor": "white",
           "landcolor": "#E5ECF6",
           "showlakes": true,
           "showland": true,
           "subunitcolor": "white"
          },
          "hoverlabel": {
           "align": "left"
          },
          "hovermode": "closest",
          "mapbox": {
           "style": "light"
          },
          "paper_bgcolor": "white",
          "plot_bgcolor": "#E5ECF6",
          "polar": {
           "angularaxis": {
            "gridcolor": "white",
            "linecolor": "white",
            "ticks": ""
           },
           "bgcolor": "#E5ECF6",
           "radialaxis": {
            "gridcolor": "white",
            "linecolor": "white",
            "ticks": ""
           }
          },
          "scene": {
           "xaxis": {
            "backgroundcolor": "#E5ECF6",
            "gridcolor": "white",
            "gridwidth": 2,
            "linecolor": "white",
            "showbackground": true,
            "ticks": "",
            "zerolinecolor": "white"
           },
           "yaxis": {
            "backgroundcolor": "#E5ECF6",
            "gridcolor": "white",
            "gridwidth": 2,
            "linecolor": "white",
            "showbackground": true,
            "ticks": "",
            "zerolinecolor": "white"
           },
           "zaxis": {
            "backgroundcolor": "#E5ECF6",
            "gridcolor": "white",
            "gridwidth": 2,
            "linecolor": "white",
            "showbackground": true,
            "ticks": "",
            "zerolinecolor": "white"
           }
          },
          "shapedefaults": {
           "line": {
            "color": "#2a3f5f"
           }
          },
          "ternary": {
           "aaxis": {
            "gridcolor": "white",
            "linecolor": "white",
            "ticks": ""
           },
           "baxis": {
            "gridcolor": "white",
            "linecolor": "white",
            "ticks": ""
           },
           "bgcolor": "#E5ECF6",
           "caxis": {
            "gridcolor": "white",
            "linecolor": "white",
            "ticks": ""
           }
          },
          "title": {
           "x": 0.05
          },
          "xaxis": {
           "automargin": true,
           "gridcolor": "white",
           "linecolor": "white",
           "ticks": "",
           "title": {
            "standoff": 15
           },
           "zerolinecolor": "white",
           "zerolinewidth": 2
          },
          "yaxis": {
           "automargin": true,
           "gridcolor": "white",
           "linecolor": "white",
           "ticks": "",
           "title": {
            "standoff": 15
           },
           "zerolinecolor": "white",
           "zerolinewidth": 2
          }
         }
        },
        "title": {
         "text": "Vessel Routes at time=685"
        },
        "xaxis": {
         "title": {
          "text": "Longitude"
         }
        },
        "yaxis": {
         "title": {
          "text": "Latitude"
         }
        }
       }
      }
     },
     "metadata": {},
     "output_type": "display_data"
    }
   ],
   "source": [
    "dict_figures[(0,1)][685]"
   ]
  },
  {
   "cell_type": "code",
   "execution_count": null,
   "metadata": {},
   "outputs": [],
   "source": []
  }
 ],
 "metadata": {
  "kernelspec": {
   "display_name": "ox",
   "language": "python",
   "name": "python3"
  },
  "language_info": {
   "codemirror_mode": {
    "name": "ipython",
    "version": 3
   },
   "file_extension": ".py",
   "mimetype": "text/x-python",
   "name": "python",
   "nbconvert_exporter": "python",
   "pygments_lexer": "ipython3",
   "version": "3.12.2"
  }
 },
 "nbformat": 4,
 "nbformat_minor": 2
}
