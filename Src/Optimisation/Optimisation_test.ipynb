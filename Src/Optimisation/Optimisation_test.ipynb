{
 "cells": [
  {
   "cell_type": "markdown",
   "metadata": {},
   "source": [
    "# Optimisation Test Notebook - Insertion Heuristic"
   ]
  },
  {
   "cell_type": "markdown",
   "metadata": {},
   "source": [
    "This notebook is created so the dynamic optimisation using the insertion heuristic can be performed."
   ]
  },
  {
   "cell_type": "code",
   "execution_count": null,
   "metadata": {},
   "outputs": [],
   "source": [
    "import os\n",
    "\n",
    "import numpy as np\n",
    "import pandas as pd\n",
    "import plotly.graph_objects as go\n",
    "\n",
    "from plotly.subplots import make_subplots"
   ]
  },
  {
   "cell_type": "markdown",
   "metadata": {},
   "source": [
    "### 1. Run the model"
   ]
  },
  {
   "cell_type": "markdown",
   "metadata": {},
   "source": [
    "Run the model by applying the requests dataset generated in the Request generation test notebook."
   ]
  },
  {
   "cell_type": "code",
   "execution_count": 2,
   "metadata": {},
   "outputs": [],
   "source": [
    "import Main_insertion"
   ]
  },
  {
   "cell_type": "code",
   "execution_count": 19,
   "metadata": {},
   "outputs": [],
   "source": [
    "# get the file names of the excel files in Results_requests folder\n",
    "files = os.listdir('../Results_requests')\n",
    "# only the requests files\n",
    "files = [file for file in files if 'Requests_' in file]\n",
    "\n",
    "# let the user choose the file\n",
    "# file can be distiguished by vessel type, demand level, and the instance number\n",
    "# the user can choose the file by the vessel type, demand level, and the instance number\n",
    "\n",
    "vessel_types = {'Parcel': 0 , 'Passenger': 1, 'Mixed': 2}\n",
    "# flip the keys and values\n",
    "vessel_types_inv = dict((v,k) for k,v in vessel_types.items())\n",
    "demand_levels = ['low', 'high']\n",
    "# depends on the max value of the instance number\n",
    "N_inst = len(files) / (2*7)\n",
    "\n",
    "demand_levels = input('Enter the demand level (low, high): ')\n",
    "instance_number = input(f'Enter the instance number (0-{int(N_inst-1)}): ')\n",
    "\n",
    "# ask if all patterns should be run or just one\n",
    "Isall = input('Do you want to run all patterns? (yes, no): ')\n",
    "\n",
    "if Isall == 'no':\n",
    "    # let the user choose - type your input\n",
    "    vessel_type_0 = input('Enter the vessel type for vessel 0 (Parcel, Passenger, Mixed): ')\n",
    "    vessel_type_1 = input('Enter the vessel type for vessel 1 (Parcel, Passenger, Mixed): ')\n",
    "\n",
    "    try:\n",
    "        vessel_type_0 = vessel_types[vessel_type_0]\n",
    "        vessel_type_1 = vessel_types[vessel_type_1]\n",
    "        \n",
    "        # get the file name\n",
    "        filenames = [f'Requests_K0_{vessel_type_0}_K1_{vessel_type_1}_demand_{demand_levels}_instance_{instance_number}.xlsx']\n",
    "\n",
    "        # Assert that the file exists\n",
    "        assert filenames[0] in files, 'File does not exist, please check the input.'\n",
    "\n",
    "    except KeyError:\n",
    "        print('Invalid vessel type')\n",
    "        exit()\n",
    "\n",
    "elif Isall == 'yes':\n",
    "    # create a list of all the filenames \n",
    "    filenames = [file for file in files if f'demand_{demand_levels}_instance_{instance_number}' in file]\n",
    "\n",
    "    # Assert that the file exists\n",
    "    assert len(filenames) > 0, 'File does not exist, please check the input.'\n",
    "\n",
    "\n"
   ]
  },
  {
   "cell_type": "code",
   "execution_count": 20,
   "metadata": {},
   "outputs": [],
   "source": [
    "# output folder\n",
    "if not os.path.exists('../Results_insertion'):\n",
    "    os.makedirs('../Results_insertion')\n",
    "\n",
    "output_folder = '../Results_insertion/'"
   ]
  },
  {
   "cell_type": "code",
   "execution_count": 21,
   "metadata": {},
   "outputs": [
    {
     "data": {
      "text/plain": [
       "['Requests_K0_0_K1_1_demand_high_instance_0.xlsx',\n",
       " 'Requests_K0_0_K1_2_demand_high_instance_0.xlsx',\n",
       " 'Requests_K0_1_K1_0_demand_high_instance_0.xlsx',\n",
       " 'Requests_K0_1_K1_2_demand_high_instance_0.xlsx',\n",
       " 'Requests_K0_2_K1_0_demand_high_instance_0.xlsx',\n",
       " 'Requests_K0_2_K1_1_demand_high_instance_0.xlsx',\n",
       " 'Requests_K0_2_K1_2_demand_high_instance_0.xlsx']"
      ]
     },
     "execution_count": 21,
     "metadata": {},
     "output_type": "execute_result"
    }
   ],
   "source": [
    "filenames"
   ]
  },
  {
   "cell_type": "markdown",
   "metadata": {},
   "source": [
    "Below, the model runs."
   ]
  },
  {
   "cell_type": "code",
   "execution_count": 22,
   "metadata": {},
   "outputs": [
    {
     "name": "stdout",
     "output_type": "stream",
     "text": [
      "Start running the insertion algorithm for the configuration: \n",
      "Vessel 0: 0, Vessel 1: 1, Demand level: high, Instance number: 0 \n",
      "\n",
      "Start the optimisation\n",
      "Progress:  7.92 %\r"
     ]
    },
    {
     "name": "stderr",
     "output_type": "stream",
     "text": [
      "c:\\Users\\heisu\\OneDrive\\ドキュメント\\TU Delft\\Thesis\\repo\\DynamicFleetManagementForMixedService-1\\Src\\Optimisation\\Main_insertion.py:212: FutureWarning:\n",
      "\n",
      "The behavior of DataFrame concatenation with empty or all-NA entries is deprecated. In a future version, this will no longer exclude empty or all-NA columns when determining the result dtypes. To retain the old behavior, exclude the relevant entries before the concat operation.\n",
      "\n"
     ]
    },
    {
     "name": "stdout",
     "output_type": "stream",
     "text": [
      "Optimisation completed!\n",
      "Start running the insertion algorithm for the configuration: \n",
      "Vessel 0: 0, Vessel 1: 2, Demand level: high, Instance number: 0 \n",
      "\n",
      "Start the optimisation\n",
      "Progress:  7.92 %\r"
     ]
    },
    {
     "name": "stderr",
     "output_type": "stream",
     "text": [
      "c:\\Users\\heisu\\OneDrive\\ドキュメント\\TU Delft\\Thesis\\repo\\DynamicFleetManagementForMixedService-1\\Src\\Optimisation\\Main_insertion.py:212: FutureWarning:\n",
      "\n",
      "The behavior of DataFrame concatenation with empty or all-NA entries is deprecated. In a future version, this will no longer exclude empty or all-NA columns when determining the result dtypes. To retain the old behavior, exclude the relevant entries before the concat operation.\n",
      "\n"
     ]
    },
    {
     "name": "stdout",
     "output_type": "stream",
     "text": [
      "Optimisation completed!\n",
      "Start running the insertion algorithm for the configuration: \n",
      "Vessel 0: 1, Vessel 1: 0, Demand level: high, Instance number: 0 \n",
      "\n",
      "Start the optimisation\n",
      "Progress:  7.29 %\r"
     ]
    },
    {
     "name": "stderr",
     "output_type": "stream",
     "text": [
      "c:\\Users\\heisu\\OneDrive\\ドキュメント\\TU Delft\\Thesis\\repo\\DynamicFleetManagementForMixedService-1\\Src\\Optimisation\\Main_insertion.py:212: FutureWarning:\n",
      "\n",
      "The behavior of DataFrame concatenation with empty or all-NA entries is deprecated. In a future version, this will no longer exclude empty or all-NA columns when determining the result dtypes. To retain the old behavior, exclude the relevant entries before the concat operation.\n",
      "\n"
     ]
    },
    {
     "name": "stdout",
     "output_type": "stream",
     "text": [
      "Optimisation completed!\n",
      "Start running the insertion algorithm for the configuration: \n",
      "Vessel 0: 1, Vessel 1: 2, Demand level: high, Instance number: 0 \n",
      "\n",
      "Start the optimisation\n",
      "Progress:  7.5 %%\r"
     ]
    },
    {
     "name": "stderr",
     "output_type": "stream",
     "text": [
      "c:\\Users\\heisu\\OneDrive\\ドキュメント\\TU Delft\\Thesis\\repo\\DynamicFleetManagementForMixedService-1\\Src\\Optimisation\\Main_insertion.py:212: FutureWarning:\n",
      "\n",
      "The behavior of DataFrame concatenation with empty or all-NA entries is deprecated. In a future version, this will no longer exclude empty or all-NA columns when determining the result dtypes. To retain the old behavior, exclude the relevant entries before the concat operation.\n",
      "\n"
     ]
    },
    {
     "name": "stdout",
     "output_type": "stream",
     "text": [
      "Optimisation completed!\n",
      "Start running the insertion algorithm for the configuration: \n",
      "Vessel 0: 2, Vessel 1: 0, Demand level: high, Instance number: 0 \n",
      "\n",
      "Start the optimisation\n",
      "Progress:  7.29 %\r"
     ]
    },
    {
     "name": "stderr",
     "output_type": "stream",
     "text": [
      "c:\\Users\\heisu\\OneDrive\\ドキュメント\\TU Delft\\Thesis\\repo\\DynamicFleetManagementForMixedService-1\\Src\\Optimisation\\Main_insertion.py:212: FutureWarning:\n",
      "\n",
      "The behavior of DataFrame concatenation with empty or all-NA entries is deprecated. In a future version, this will no longer exclude empty or all-NA columns when determining the result dtypes. To retain the old behavior, exclude the relevant entries before the concat operation.\n",
      "\n"
     ]
    },
    {
     "name": "stdout",
     "output_type": "stream",
     "text": [
      "Optimisation completed!\n",
      "Start running the insertion algorithm for the configuration: \n",
      "Vessel 0: 2, Vessel 1: 1, Demand level: high, Instance number: 0 \n",
      "\n",
      "Start the optimisation\n",
      "Progress:  7.29 %\r"
     ]
    },
    {
     "name": "stderr",
     "output_type": "stream",
     "text": [
      "c:\\Users\\heisu\\OneDrive\\ドキュメント\\TU Delft\\Thesis\\repo\\DynamicFleetManagementForMixedService-1\\Src\\Optimisation\\Main_insertion.py:212: FutureWarning:\n",
      "\n",
      "The behavior of DataFrame concatenation with empty or all-NA entries is deprecated. In a future version, this will no longer exclude empty or all-NA columns when determining the result dtypes. To retain the old behavior, exclude the relevant entries before the concat operation.\n",
      "\n"
     ]
    },
    {
     "name": "stdout",
     "output_type": "stream",
     "text": [
      "Optimisation completed!\n",
      "Start running the insertion algorithm for the configuration: \n",
      "Vessel 0: 2, Vessel 1: 2, Demand level: high, Instance number: 0 \n",
      "\n",
      "Start the optimisation\n",
      "Progress:  7.5 %%\r"
     ]
    },
    {
     "name": "stderr",
     "output_type": "stream",
     "text": [
      "c:\\Users\\heisu\\OneDrive\\ドキュメント\\TU Delft\\Thesis\\repo\\DynamicFleetManagementForMixedService-1\\Src\\Optimisation\\Main_insertion.py:212: FutureWarning:\n",
      "\n",
      "The behavior of DataFrame concatenation with empty or all-NA entries is deprecated. In a future version, this will no longer exclude empty or all-NA columns when determining the result dtypes. To retain the old behavior, exclude the relevant entries before the concat operation.\n",
      "\n"
     ]
    },
    {
     "name": "stdout",
     "output_type": "stream",
     "text": [
      "Optimisation completed!\n"
     ]
    }
   ],
   "source": [
    "dict_df_results = {}\n",
    "for file in filenames:\n",
    "    demand_levels = file.split('_')[6]\n",
    "    instance_number = file.split('_')[8].split('.')[0]\n",
    "    vessel_type_0 = int(file.split('_')[2])\n",
    "    vessel_type_1 = int(file.split('_')[4])\n",
    "    data_path = f'../Results_requests/{file}'\n",
    "    print(\"Start running the insertion algorithm for the configuration: \")\n",
    "    print(f'Vessel 0: {vessel_type_0}, Vessel 1: {vessel_type_1}, Demand level: {demand_levels}, Instance number: {instance_number}', \"\\n\")\n",
    "    df_results = Main_insertion.main(data_path, output_folder, scenario=demand_levels, instance=instance_number, pattern=[vessel_type_0, vessel_type_1])\n",
    "    dict_df_results[(vessel_type_0, vessel_type_1)] = df_results\n"
   ]
  },
  {
   "cell_type": "markdown",
   "metadata": {},
   "source": [
    "### Looking into the results"
   ]
  },
  {
   "cell_type": "code",
   "execution_count": null,
   "metadata": {},
   "outputs": [],
   "source": [
    "# DO: Plot the map of the route plan for each vessel eventually\n",
    "\n",
    "# Can you Dash to build analytics dashboard\n",
    "# https://dash.plotly.com/"
   ]
  },
  {
   "cell_type": "code",
   "execution_count": 23,
   "metadata": {},
   "outputs": [],
   "source": [
    "# flip the keys and values\n",
    "vessel_types_inv = dict((v,k) for k,v in vessel_types.items())"
   ]
  },
  {
   "cell_type": "code",
   "execution_count": 29,
   "metadata": {},
   "outputs": [
    {
     "data": {
      "text/plain": [
       "[(0, 1), (0, 2), (1, 0), (1, 2), (2, 0), (2, 1), (2, 2)]"
      ]
     },
     "execution_count": 29,
     "metadata": {},
     "output_type": "execute_result"
    }
   ],
   "source": [
    "keys = list(dict_df_results.keys())\n",
    "keys"
   ]
  },
  {
   "cell_type": "code",
   "execution_count": null,
   "metadata": {},
   "outputs": [
    {
     "data": {
      "application/vnd.plotly.v1+json": {
       "config": {
        "plotlyServerURL": "https://plot.ly"
       },
       "data": [
        {
         "name": "Total distance [km]",
         "type": "bar",
         "width": 0.2,
         "x": [
          "Parcel - Passenger",
          "Parcel - Mixed",
          "Passenger - Parcel",
          "Passenger - Mixed",
          "Mixed - Parcel",
          "Mixed - Passenger",
          "Mixed - Mixed"
         ],
         "xaxis": "x",
         "y": [
          157.66531294806668,
          184.99089116944768,
          158.12250084113458,
          138.82312311314462,
          142.9300069086741,
          146.6647911688894,
          164.26871015600943
         ],
         "yaxis": "y"
        },
        {
         "name": "Total distance vessel 0 [km]",
         "type": "bar",
         "width": 0.2,
         "x": [
          "Parcel - Passenger",
          "Parcel - Mixed",
          "Passenger - Parcel",
          "Passenger - Mixed",
          "Mixed - Parcel",
          "Mixed - Passenger",
          "Mixed - Mixed"
         ],
         "xaxis": "x",
         "y": [
          86.90876120531594,
          85.81670118488003,
          71.23649325244163,
          46.5689323195031,
          93.21184489499292,
          82.93299066964087,
          86.46928635533563
         ],
         "yaxis": "y"
        },
        {
         "name": "Total distance vessel 1 [km]",
         "type": "bar",
         "width": 0.2,
         "x": [
          "Parcel - Passenger",
          "Parcel - Mixed",
          "Passenger - Parcel",
          "Passenger - Mixed",
          "Mixed - Parcel",
          "Mixed - Passenger",
          "Mixed - Mixed"
         ],
         "xaxis": "x",
         "y": [
          70.75655174275076,
          99.17418998456765,
          86.88600758869295,
          92.25419079364153,
          49.71816201368118,
          63.73180049924852,
          77.7994238006738
         ],
         "yaxis": "y"
        },
        {
         "mode": "lines+markers",
         "name": "Met ratio",
         "type": "scatter",
         "x": [
          "Parcel - Passenger",
          "Parcel - Mixed",
          "Passenger - Parcel",
          "Passenger - Mixed",
          "Mixed - Parcel",
          "Mixed - Passenger",
          "Mixed - Mixed"
         ],
         "xaxis": "x",
         "y": [
          76.41,
          82.99,
          76.41,
          69.74,
          73.44,
          73.2,
          86.6
         ],
         "yaxis": "y2"
        }
       ],
       "layout": {
        "barmode": "group",
        "template": {
         "data": {
          "bar": [
           {
            "error_x": {
             "color": "#2a3f5f"
            },
            "error_y": {
             "color": "#2a3f5f"
            },
            "marker": {
             "line": {
              "color": "#E5ECF6",
              "width": 0.5
             },
             "pattern": {
              "fillmode": "overlay",
              "size": 10,
              "solidity": 0.2
             }
            },
            "type": "bar"
           }
          ],
          "barpolar": [
           {
            "marker": {
             "line": {
              "color": "#E5ECF6",
              "width": 0.5
             },
             "pattern": {
              "fillmode": "overlay",
              "size": 10,
              "solidity": 0.2
             }
            },
            "type": "barpolar"
           }
          ],
          "carpet": [
           {
            "aaxis": {
             "endlinecolor": "#2a3f5f",
             "gridcolor": "white",
             "linecolor": "white",
             "minorgridcolor": "white",
             "startlinecolor": "#2a3f5f"
            },
            "baxis": {
             "endlinecolor": "#2a3f5f",
             "gridcolor": "white",
             "linecolor": "white",
             "minorgridcolor": "white",
             "startlinecolor": "#2a3f5f"
            },
            "type": "carpet"
           }
          ],
          "choropleth": [
           {
            "colorbar": {
             "outlinewidth": 0,
             "ticks": ""
            },
            "type": "choropleth"
           }
          ],
          "contour": [
           {
            "colorbar": {
             "outlinewidth": 0,
             "ticks": ""
            },
            "colorscale": [
             [
              0,
              "#0d0887"
             ],
             [
              0.1111111111111111,
              "#46039f"
             ],
             [
              0.2222222222222222,
              "#7201a8"
             ],
             [
              0.3333333333333333,
              "#9c179e"
             ],
             [
              0.4444444444444444,
              "#bd3786"
             ],
             [
              0.5555555555555556,
              "#d8576b"
             ],
             [
              0.6666666666666666,
              "#ed7953"
             ],
             [
              0.7777777777777778,
              "#fb9f3a"
             ],
             [
              0.8888888888888888,
              "#fdca26"
             ],
             [
              1,
              "#f0f921"
             ]
            ],
            "type": "contour"
           }
          ],
          "contourcarpet": [
           {
            "colorbar": {
             "outlinewidth": 0,
             "ticks": ""
            },
            "type": "contourcarpet"
           }
          ],
          "heatmap": [
           {
            "colorbar": {
             "outlinewidth": 0,
             "ticks": ""
            },
            "colorscale": [
             [
              0,
              "#0d0887"
             ],
             [
              0.1111111111111111,
              "#46039f"
             ],
             [
              0.2222222222222222,
              "#7201a8"
             ],
             [
              0.3333333333333333,
              "#9c179e"
             ],
             [
              0.4444444444444444,
              "#bd3786"
             ],
             [
              0.5555555555555556,
              "#d8576b"
             ],
             [
              0.6666666666666666,
              "#ed7953"
             ],
             [
              0.7777777777777778,
              "#fb9f3a"
             ],
             [
              0.8888888888888888,
              "#fdca26"
             ],
             [
              1,
              "#f0f921"
             ]
            ],
            "type": "heatmap"
           }
          ],
          "heatmapgl": [
           {
            "colorbar": {
             "outlinewidth": 0,
             "ticks": ""
            },
            "colorscale": [
             [
              0,
              "#0d0887"
             ],
             [
              0.1111111111111111,
              "#46039f"
             ],
             [
              0.2222222222222222,
              "#7201a8"
             ],
             [
              0.3333333333333333,
              "#9c179e"
             ],
             [
              0.4444444444444444,
              "#bd3786"
             ],
             [
              0.5555555555555556,
              "#d8576b"
             ],
             [
              0.6666666666666666,
              "#ed7953"
             ],
             [
              0.7777777777777778,
              "#fb9f3a"
             ],
             [
              0.8888888888888888,
              "#fdca26"
             ],
             [
              1,
              "#f0f921"
             ]
            ],
            "type": "heatmapgl"
           }
          ],
          "histogram": [
           {
            "marker": {
             "pattern": {
              "fillmode": "overlay",
              "size": 10,
              "solidity": 0.2
             }
            },
            "type": "histogram"
           }
          ],
          "histogram2d": [
           {
            "colorbar": {
             "outlinewidth": 0,
             "ticks": ""
            },
            "colorscale": [
             [
              0,
              "#0d0887"
             ],
             [
              0.1111111111111111,
              "#46039f"
             ],
             [
              0.2222222222222222,
              "#7201a8"
             ],
             [
              0.3333333333333333,
              "#9c179e"
             ],
             [
              0.4444444444444444,
              "#bd3786"
             ],
             [
              0.5555555555555556,
              "#d8576b"
             ],
             [
              0.6666666666666666,
              "#ed7953"
             ],
             [
              0.7777777777777778,
              "#fb9f3a"
             ],
             [
              0.8888888888888888,
              "#fdca26"
             ],
             [
              1,
              "#f0f921"
             ]
            ],
            "type": "histogram2d"
           }
          ],
          "histogram2dcontour": [
           {
            "colorbar": {
             "outlinewidth": 0,
             "ticks": ""
            },
            "colorscale": [
             [
              0,
              "#0d0887"
             ],
             [
              0.1111111111111111,
              "#46039f"
             ],
             [
              0.2222222222222222,
              "#7201a8"
             ],
             [
              0.3333333333333333,
              "#9c179e"
             ],
             [
              0.4444444444444444,
              "#bd3786"
             ],
             [
              0.5555555555555556,
              "#d8576b"
             ],
             [
              0.6666666666666666,
              "#ed7953"
             ],
             [
              0.7777777777777778,
              "#fb9f3a"
             ],
             [
              0.8888888888888888,
              "#fdca26"
             ],
             [
              1,
              "#f0f921"
             ]
            ],
            "type": "histogram2dcontour"
           }
          ],
          "mesh3d": [
           {
            "colorbar": {
             "outlinewidth": 0,
             "ticks": ""
            },
            "type": "mesh3d"
           }
          ],
          "parcoords": [
           {
            "line": {
             "colorbar": {
              "outlinewidth": 0,
              "ticks": ""
             }
            },
            "type": "parcoords"
           }
          ],
          "pie": [
           {
            "automargin": true,
            "type": "pie"
           }
          ],
          "scatter": [
           {
            "fillpattern": {
             "fillmode": "overlay",
             "size": 10,
             "solidity": 0.2
            },
            "type": "scatter"
           }
          ],
          "scatter3d": [
           {
            "line": {
             "colorbar": {
              "outlinewidth": 0,
              "ticks": ""
             }
            },
            "marker": {
             "colorbar": {
              "outlinewidth": 0,
              "ticks": ""
             }
            },
            "type": "scatter3d"
           }
          ],
          "scattercarpet": [
           {
            "marker": {
             "colorbar": {
              "outlinewidth": 0,
              "ticks": ""
             }
            },
            "type": "scattercarpet"
           }
          ],
          "scattergeo": [
           {
            "marker": {
             "colorbar": {
              "outlinewidth": 0,
              "ticks": ""
             }
            },
            "type": "scattergeo"
           }
          ],
          "scattergl": [
           {
            "marker": {
             "colorbar": {
              "outlinewidth": 0,
              "ticks": ""
             }
            },
            "type": "scattergl"
           }
          ],
          "scattermapbox": [
           {
            "marker": {
             "colorbar": {
              "outlinewidth": 0,
              "ticks": ""
             }
            },
            "type": "scattermapbox"
           }
          ],
          "scatterpolar": [
           {
            "marker": {
             "colorbar": {
              "outlinewidth": 0,
              "ticks": ""
             }
            },
            "type": "scatterpolar"
           }
          ],
          "scatterpolargl": [
           {
            "marker": {
             "colorbar": {
              "outlinewidth": 0,
              "ticks": ""
             }
            },
            "type": "scatterpolargl"
           }
          ],
          "scatterternary": [
           {
            "marker": {
             "colorbar": {
              "outlinewidth": 0,
              "ticks": ""
             }
            },
            "type": "scatterternary"
           }
          ],
          "surface": [
           {
            "colorbar": {
             "outlinewidth": 0,
             "ticks": ""
            },
            "colorscale": [
             [
              0,
              "#0d0887"
             ],
             [
              0.1111111111111111,
              "#46039f"
             ],
             [
              0.2222222222222222,
              "#7201a8"
             ],
             [
              0.3333333333333333,
              "#9c179e"
             ],
             [
              0.4444444444444444,
              "#bd3786"
             ],
             [
              0.5555555555555556,
              "#d8576b"
             ],
             [
              0.6666666666666666,
              "#ed7953"
             ],
             [
              0.7777777777777778,
              "#fb9f3a"
             ],
             [
              0.8888888888888888,
              "#fdca26"
             ],
             [
              1,
              "#f0f921"
             ]
            ],
            "type": "surface"
           }
          ],
          "table": [
           {
            "cells": {
             "fill": {
              "color": "#EBF0F8"
             },
             "line": {
              "color": "white"
             }
            },
            "header": {
             "fill": {
              "color": "#C8D4E3"
             },
             "line": {
              "color": "white"
             }
            },
            "type": "table"
           }
          ]
         },
         "layout": {
          "annotationdefaults": {
           "arrowcolor": "#2a3f5f",
           "arrowhead": 0,
           "arrowwidth": 1
          },
          "autotypenumbers": "strict",
          "coloraxis": {
           "colorbar": {
            "outlinewidth": 0,
            "ticks": ""
           }
          },
          "colorscale": {
           "diverging": [
            [
             0,
             "#8e0152"
            ],
            [
             0.1,
             "#c51b7d"
            ],
            [
             0.2,
             "#de77ae"
            ],
            [
             0.3,
             "#f1b6da"
            ],
            [
             0.4,
             "#fde0ef"
            ],
            [
             0.5,
             "#f7f7f7"
            ],
            [
             0.6,
             "#e6f5d0"
            ],
            [
             0.7,
             "#b8e186"
            ],
            [
             0.8,
             "#7fbc41"
            ],
            [
             0.9,
             "#4d9221"
            ],
            [
             1,
             "#276419"
            ]
           ],
           "sequential": [
            [
             0,
             "#0d0887"
            ],
            [
             0.1111111111111111,
             "#46039f"
            ],
            [
             0.2222222222222222,
             "#7201a8"
            ],
            [
             0.3333333333333333,
             "#9c179e"
            ],
            [
             0.4444444444444444,
             "#bd3786"
            ],
            [
             0.5555555555555556,
             "#d8576b"
            ],
            [
             0.6666666666666666,
             "#ed7953"
            ],
            [
             0.7777777777777778,
             "#fb9f3a"
            ],
            [
             0.8888888888888888,
             "#fdca26"
            ],
            [
             1,
             "#f0f921"
            ]
           ],
           "sequentialminus": [
            [
             0,
             "#0d0887"
            ],
            [
             0.1111111111111111,
             "#46039f"
            ],
            [
             0.2222222222222222,
             "#7201a8"
            ],
            [
             0.3333333333333333,
             "#9c179e"
            ],
            [
             0.4444444444444444,
             "#bd3786"
            ],
            [
             0.5555555555555556,
             "#d8576b"
            ],
            [
             0.6666666666666666,
             "#ed7953"
            ],
            [
             0.7777777777777778,
             "#fb9f3a"
            ],
            [
             0.8888888888888888,
             "#fdca26"
            ],
            [
             1,
             "#f0f921"
            ]
           ]
          },
          "colorway": [
           "#636efa",
           "#EF553B",
           "#00cc96",
           "#ab63fa",
           "#FFA15A",
           "#19d3f3",
           "#FF6692",
           "#B6E880",
           "#FF97FF",
           "#FECB52"
          ],
          "font": {
           "color": "#2a3f5f"
          },
          "geo": {
           "bgcolor": "white",
           "lakecolor": "white",
           "landcolor": "#E5ECF6",
           "showlakes": true,
           "showland": true,
           "subunitcolor": "white"
          },
          "hoverlabel": {
           "align": "left"
          },
          "hovermode": "closest",
          "mapbox": {
           "style": "light"
          },
          "paper_bgcolor": "white",
          "plot_bgcolor": "#E5ECF6",
          "polar": {
           "angularaxis": {
            "gridcolor": "white",
            "linecolor": "white",
            "ticks": ""
           },
           "bgcolor": "#E5ECF6",
           "radialaxis": {
            "gridcolor": "white",
            "linecolor": "white",
            "ticks": ""
           }
          },
          "scene": {
           "xaxis": {
            "backgroundcolor": "#E5ECF6",
            "gridcolor": "white",
            "gridwidth": 2,
            "linecolor": "white",
            "showbackground": true,
            "ticks": "",
            "zerolinecolor": "white"
           },
           "yaxis": {
            "backgroundcolor": "#E5ECF6",
            "gridcolor": "white",
            "gridwidth": 2,
            "linecolor": "white",
            "showbackground": true,
            "ticks": "",
            "zerolinecolor": "white"
           },
           "zaxis": {
            "backgroundcolor": "#E5ECF6",
            "gridcolor": "white",
            "gridwidth": 2,
            "linecolor": "white",
            "showbackground": true,
            "ticks": "",
            "zerolinecolor": "white"
           }
          },
          "shapedefaults": {
           "line": {
            "color": "#2a3f5f"
           }
          },
          "ternary": {
           "aaxis": {
            "gridcolor": "white",
            "linecolor": "white",
            "ticks": ""
           },
           "baxis": {
            "gridcolor": "white",
            "linecolor": "white",
            "ticks": ""
           },
           "bgcolor": "#E5ECF6",
           "caxis": {
            "gridcolor": "white",
            "linecolor": "white",
            "ticks": ""
           }
          },
          "title": {
           "x": 0.05
          },
          "xaxis": {
           "automargin": true,
           "gridcolor": "white",
           "linecolor": "white",
           "ticks": "",
           "title": {
            "standoff": 15
           },
           "zerolinecolor": "white",
           "zerolinewidth": 2
          },
          "yaxis": {
           "automargin": true,
           "gridcolor": "white",
           "linecolor": "white",
           "ticks": "",
           "title": {
            "standoff": 15
           },
           "zerolinecolor": "white",
           "zerolinewidth": 2
          }
         }
        },
        "title": {
         "text": "Total distance for each pattern"
        },
        "xaxis": {
         "anchor": "y",
         "domain": [
          0,
          0.94
         ],
         "title": {
          "text": "Pattern"
         }
        },
        "yaxis": {
         "anchor": "x",
         "domain": [
          0,
          1
         ],
         "title": {
          "text": "Total distance [km]"
         }
        },
        "yaxis2": {
         "anchor": "x",
         "overlaying": "y",
         "side": "right",
         "title": {
          "text": "Met ratio [%]"
         }
        }
       }
      }
     },
     "metadata": {},
     "output_type": "display_data"
    }
   ],
   "source": [
    "# Visualise the final total distance for each pattern as a bar chart\n",
    "# collect the final total distance for each pattern\n",
    "\n",
    "total_distances = [dict_df_results[key].iloc[-1]['Total_dist'] for key in dict_df_results.keys()]\n",
    "total_distances_k0 = [dict_df_results[key].iloc[-1]['Travel_distance_k0'] for key in dict_df_results.keys()]\n",
    "total_distances_k1 = [dict_df_results[key].iloc[-1]['Travel_distance_k1'] for key in dict_df_results.keys()]\n",
    "\n",
    "# collect the final met ratio for each pattern\n",
    "met_ratios = [round(dict_df_results[key].iloc[-1]['Met_Ratio']*100, 2) for key in dict_df_results.keys()]\n",
    "\n",
    "\n",
    "fig = make_subplots(specs=[[{'secondary_y': True}]])\n",
    "\n",
    "fig.add_trace(go.Bar(x=[f'{vessel_types_inv[int(key[0])]} - {vessel_types_inv[int(key[1])]}' for key in dict_df_results.keys()], y=total_distances, name='Total distance [km]'), secondary_y=False)\n",
    "fig.add_trace(go.Bar(x=[f'{vessel_types_inv[int(key[0])]} - {vessel_types_inv[int(key[1])]}' for key in dict_df_results.keys()], y=total_distances_k0, name='Total distance vessel 0 [km]'), secondary_y=False)\n",
    "fig.add_trace(go.Bar(x=[f'{vessel_types_inv[int(key[0])]} - {vessel_types_inv[int(key[1])]}' for key in dict_df_results.keys()], y=total_distances_k1, name='Total distance vessel 1 [km]'), secondary_y=False)\n",
    "fig.update_traces(width=0.2)\n",
    "\n",
    "\n",
    "fig.add_trace(go.Scatter(x=[f'{vessel_types_inv[int(key[0])]} - {vessel_types_inv[int(key[1])]}' for key in dict_df_results.keys()], y=met_ratios, mode='lines+markers', name='Met ratio'), secondary_y=True)\n",
    "\n",
    "fig.update_yaxes(title_text=\"Total distance [km]\", secondary_y=False)\n",
    "fig.update_yaxes(title_text=\"Met ratio [%]\", secondary_y=True)\n",
    "fig.update_layout(title='Total distance for each pattern', xaxis_title='Pattern', barmode='group')\n",
    "\n",
    "\n",
    "fig.show()"
   ]
  },
  {
   "cell_type": "code",
   "execution_count": null,
   "metadata": {},
   "outputs": [],
   "source": []
  }
 ],
 "metadata": {
  "kernelspec": {
   "display_name": "ox",
   "language": "python",
   "name": "python3"
  },
  "language_info": {
   "codemirror_mode": {
    "name": "ipython",
    "version": 3
   },
   "file_extension": ".py",
   "mimetype": "text/x-python",
   "name": "python",
   "nbconvert_exporter": "python",
   "pygments_lexer": "ipython3",
   "version": "3.12.2"
  }
 },
 "nbformat": 4,
 "nbformat_minor": 2
}
